{
 "cells": [
  {
   "cell_type": "code",
   "execution_count": null,
   "id": "e16c713a",
   "metadata": {},
   "outputs": [],
   "source": [
    "#importing packages\n",
    "from bs4 import BeautifulSoup\n",
    "import requests\n",
    "import pandas as pd\n",
    "import subprocess\n",
    "\n",
    "# df = pd.read_csv('gujarati_data.csv')\n",
    "# pd.DataFrame(columns=['start_index','url','category_id','kirtan_flag','pad_index','title_guj','kirtan_guj'])\n",
    "# df = pd.DataFrame(columns=['title_guj','mul_pad_guj'])\n",
    "df = pd.read_csv('final.csv')\n",
    "df"
   ]
  }
 ],
 "metadata": {
  "kernelspec": {
   "display_name": "Python 3 (ipykernel)",
   "language": "python",
   "name": "python3"
  },
  "language_info": {
   "codemirror_mode": {
    "name": "ipython",
    "version": 3
   },
   "file_extension": ".py",
   "mimetype": "text/x-python",
   "name": "python",
   "nbconvert_exporter": "python",
   "pygments_lexer": "ipython3",
   "version": "3.10.9"
  }
 },
 "nbformat": 4,
 "nbformat_minor": 5
}
